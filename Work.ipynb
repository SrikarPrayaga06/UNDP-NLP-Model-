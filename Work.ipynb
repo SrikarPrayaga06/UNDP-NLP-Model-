{
 "cells": [
  {
   "cell_type": "code",
   "execution_count": 2,
   "source": [
    "import pandas as pd\n",
    "import numpy as np\n",
    "import matplotlib.pyplot as plt"
   ],
   "outputs": [],
   "metadata": {}
  },
  {
   "cell_type": "code",
   "execution_count": 22,
   "source": [
    "# read in data \n",
    "newsFeed=pd.read_csv(\"/Users/srikarprayaga/Desktop/UNDP-NLP-Model-/Nigeria2019_Newsfeed.csv\")\n",
    "nf_meta=pd.read_csv(\"/Users/srikarprayaga/Desktop/UNDP-NLP-Model-/Nigeria2019_Newsfeed_Metadata.csv\")\n",
    "acled=pd.read_csv(\"/Users/srikarprayaga/Desktop/UNDP-NLP-Model-/Nigeria2019_ACLED_Extract.csv\")"
   ],
   "outputs": [],
   "metadata": {}
  },
  {
   "cell_type": "code",
   "execution_count": 4,
   "source": [
    "newsFeed.head()"
   ],
   "outputs": [
    {
     "output_type": "execute_result",
     "data": {
      "text/html": [
       "<div>\n",
       "<style scoped>\n",
       "    .dataframe tbody tr th:only-of-type {\n",
       "        vertical-align: middle;\n",
       "    }\n",
       "\n",
       "    .dataframe tbody tr th {\n",
       "        vertical-align: top;\n",
       "    }\n",
       "\n",
       "    .dataframe thead th {\n",
       "        text-align: right;\n",
       "    }\n",
       "</style>\n",
       "<table border=\"1\" class=\"dataframe\">\n",
       "  <thead>\n",
       "    <tr style=\"text-align: right;\">\n",
       "      <th></th>\n",
       "      <th>Newsfeed_PK</th>\n",
       "      <th>KPIFK</th>\n",
       "      <th>DateFK</th>\n",
       "      <th>Newsfeed_EventId</th>\n",
       "      <th>CountryFK</th>\n",
       "      <th>Newsfeed_Source</th>\n",
       "      <th>Newsfeed_Source_Description</th>\n",
       "      <th>Newsfeed_Source_Url</th>\n",
       "      <th>Newsfeed_DateDisplay</th>\n",
       "      <th>Newsfeed_CountryISO</th>\n",
       "      <th>...</th>\n",
       "      <th>Newsfeed_Description</th>\n",
       "      <th>Newsfeed_Description2</th>\n",
       "      <th>Newsfeed_Link</th>\n",
       "      <th>Newsfeed_Longitude</th>\n",
       "      <th>Newsfeed_Latitude</th>\n",
       "      <th>Newsfeed_Trajectory</th>\n",
       "      <th>Newsfeed_PeopleAffected</th>\n",
       "      <th>Newsfeed_Source2</th>\n",
       "      <th>Newsfeed_Language</th>\n",
       "      <th>Newsfeed_Entity</th>\n",
       "    </tr>\n",
       "  </thead>\n",
       "  <tbody>\n",
       "    <tr>\n",
       "      <th>0</th>\n",
       "      <td>14127</td>\n",
       "      <td>109.0</td>\n",
       "      <td>20190111</td>\n",
       "      <td>18691</td>\n",
       "      <td>203</td>\n",
       "      <td>Security Monitor</td>\n",
       "      <td>The Security Monitor is an internal UNDP monit...</td>\n",
       "      <td>https://intranet.undp.org/unit/oolts/so/Lists/...</td>\n",
       "      <td>1/11/19 5:00</td>\n",
       "      <td>NGA</td>\n",
       "      <td>...</td>\n",
       "      <td>ARMED CONFLICT On 09 January 2019, at about 22...</td>\n",
       "      <td>ARMED CONFLICT On 09 January 2019, at about 22...</td>\n",
       "      <td>NaN</td>\n",
       "      <td>NaN</td>\n",
       "      <td>NaN</td>\n",
       "      <td>NaN</td>\n",
       "      <td>NaN</td>\n",
       "      <td>NaN</td>\n",
       "      <td>English</td>\n",
       "      <td>NaN</td>\n",
       "    </tr>\n",
       "    <tr>\n",
       "      <th>1</th>\n",
       "      <td>14153</td>\n",
       "      <td>109.0</td>\n",
       "      <td>20190118</td>\n",
       "      <td>18720</td>\n",
       "      <td>203</td>\n",
       "      <td>Security Monitor</td>\n",
       "      <td>The Security Monitor is an internal UNDP monit...</td>\n",
       "      <td>https://intranet.undp.org/unit/oolts/so/Lists/...</td>\n",
       "      <td>1/18/19 5:00</td>\n",
       "      <td>NGA</td>\n",
       "      <td>...</td>\n",
       "      <td>ARMED CONFLICTOn 16 January 2019, 1230hours, B...</td>\n",
       "      <td>ARMED CONFLICTOn 16 January 2019, 1230hours, B...</td>\n",
       "      <td>NaN</td>\n",
       "      <td>NaN</td>\n",
       "      <td>NaN</td>\n",
       "      <td>NaN</td>\n",
       "      <td>NaN</td>\n",
       "      <td>NaN</td>\n",
       "      <td>English</td>\n",
       "      <td>NaN</td>\n",
       "    </tr>\n",
       "    <tr>\n",
       "      <th>2</th>\n",
       "      <td>14206</td>\n",
       "      <td>109.0</td>\n",
       "      <td>20190125</td>\n",
       "      <td>18779</td>\n",
       "      <td>203</td>\n",
       "      <td>Security Monitor</td>\n",
       "      <td>The Security Monitor is an internal UNDP monit...</td>\n",
       "      <td>https://intranet.undp.org/unit/oolts/so/Lists/...</td>\n",
       "      <td>1/25/19 5:00</td>\n",
       "      <td>NGA</td>\n",
       "      <td>...</td>\n",
       "      <td>ARMED CONFLICTOn 25 January 2019 at about 0400...</td>\n",
       "      <td>ARMED CONFLICTOn 25 January 2019 at about 0400...</td>\n",
       "      <td>NaN</td>\n",
       "      <td>NaN</td>\n",
       "      <td>NaN</td>\n",
       "      <td>NaN</td>\n",
       "      <td>NaN</td>\n",
       "      <td>NaN</td>\n",
       "      <td>English</td>\n",
       "      <td>NaN</td>\n",
       "    </tr>\n",
       "    <tr>\n",
       "      <th>3</th>\n",
       "      <td>14317</td>\n",
       "      <td>109.0</td>\n",
       "      <td>20190208</td>\n",
       "      <td>18909</td>\n",
       "      <td>203</td>\n",
       "      <td>Security Monitor</td>\n",
       "      <td>The Security Monitor is an internal UNDP monit...</td>\n",
       "      <td>https://intranet.undp.org/unit/oolts/so/Lists/...</td>\n",
       "      <td>2/8/19 5:00</td>\n",
       "      <td>NGA</td>\n",
       "      <td>...</td>\n",
       "      <td>ARMED CONFLICTOn 07 February 2019 at about 183...</td>\n",
       "      <td>ARMED CONFLICTOn 07 February 2019 at about 183...</td>\n",
       "      <td>NaN</td>\n",
       "      <td>NaN</td>\n",
       "      <td>NaN</td>\n",
       "      <td>NaN</td>\n",
       "      <td>NaN</td>\n",
       "      <td>NaN</td>\n",
       "      <td>English</td>\n",
       "      <td>NaN</td>\n",
       "    </tr>\n",
       "    <tr>\n",
       "      <th>4</th>\n",
       "      <td>14428</td>\n",
       "      <td>109.0</td>\n",
       "      <td>20190215</td>\n",
       "      <td>19028</td>\n",
       "      <td>203</td>\n",
       "      <td>Security Monitor</td>\n",
       "      <td>The Security Monitor is an internal UNDP monit...</td>\n",
       "      <td>https://intranet.undp.org/unit/oolts/so/Lists/...</td>\n",
       "      <td>2/15/19 5:00</td>\n",
       "      <td>NGA</td>\n",
       "      <td>...</td>\n",
       "      <td>ARMED CONFLICTOn 12 February 2019 at about 180...</td>\n",
       "      <td>ARMED CONFLICTOn 12 February 2019 at about 180...</td>\n",
       "      <td>NaN</td>\n",
       "      <td>NaN</td>\n",
       "      <td>NaN</td>\n",
       "      <td>NaN</td>\n",
       "      <td>NaN</td>\n",
       "      <td>NaN</td>\n",
       "      <td>English</td>\n",
       "      <td>NaN</td>\n",
       "    </tr>\n",
       "  </tbody>\n",
       "</table>\n",
       "<p>5 rows × 25 columns</p>\n",
       "</div>"
      ],
      "text/plain": [
       "   Newsfeed_PK  KPIFK    DateFK  Newsfeed_EventId  CountryFK  \\\n",
       "0        14127  109.0  20190111             18691        203   \n",
       "1        14153  109.0  20190118             18720        203   \n",
       "2        14206  109.0  20190125             18779        203   \n",
       "3        14317  109.0  20190208             18909        203   \n",
       "4        14428  109.0  20190215             19028        203   \n",
       "\n",
       "    Newsfeed_Source                        Newsfeed_Source_Description  \\\n",
       "0  Security Monitor  The Security Monitor is an internal UNDP monit...   \n",
       "1  Security Monitor  The Security Monitor is an internal UNDP monit...   \n",
       "2  Security Monitor  The Security Monitor is an internal UNDP monit...   \n",
       "3  Security Monitor  The Security Monitor is an internal UNDP monit...   \n",
       "4  Security Monitor  The Security Monitor is an internal UNDP monit...   \n",
       "\n",
       "                                 Newsfeed_Source_Url Newsfeed_DateDisplay  \\\n",
       "0  https://intranet.undp.org/unit/oolts/so/Lists/...         1/11/19 5:00   \n",
       "1  https://intranet.undp.org/unit/oolts/so/Lists/...         1/18/19 5:00   \n",
       "2  https://intranet.undp.org/unit/oolts/so/Lists/...         1/25/19 5:00   \n",
       "3  https://intranet.undp.org/unit/oolts/so/Lists/...          2/8/19 5:00   \n",
       "4  https://intranet.undp.org/unit/oolts/so/Lists/...         2/15/19 5:00   \n",
       "\n",
       "  Newsfeed_CountryISO  ...                               Newsfeed_Description  \\\n",
       "0                 NGA  ...  ARMED CONFLICT On 09 January 2019, at about 22...   \n",
       "1                 NGA  ...  ARMED CONFLICTOn 16 January 2019, 1230hours, B...   \n",
       "2                 NGA  ...  ARMED CONFLICTOn 25 January 2019 at about 0400...   \n",
       "3                 NGA  ...  ARMED CONFLICTOn 07 February 2019 at about 183...   \n",
       "4                 NGA  ...  ARMED CONFLICTOn 12 February 2019 at about 180...   \n",
       "\n",
       "                               Newsfeed_Description2 Newsfeed_Link  \\\n",
       "0  ARMED CONFLICT On 09 January 2019, at about 22...           NaN   \n",
       "1  ARMED CONFLICTOn 16 January 2019, 1230hours, B...           NaN   \n",
       "2  ARMED CONFLICTOn 25 January 2019 at about 0400...           NaN   \n",
       "3  ARMED CONFLICTOn 07 February 2019 at about 183...           NaN   \n",
       "4  ARMED CONFLICTOn 12 February 2019 at about 180...           NaN   \n",
       "\n",
       "   Newsfeed_Longitude  Newsfeed_Latitude Newsfeed_Trajectory  \\\n",
       "0                 NaN                NaN                 NaN   \n",
       "1                 NaN                NaN                 NaN   \n",
       "2                 NaN                NaN                 NaN   \n",
       "3                 NaN                NaN                 NaN   \n",
       "4                 NaN                NaN                 NaN   \n",
       "\n",
       "  Newsfeed_PeopleAffected Newsfeed_Source2  Newsfeed_Language  Newsfeed_Entity  \n",
       "0                     NaN              NaN            English              NaN  \n",
       "1                     NaN              NaN            English              NaN  \n",
       "2                     NaN              NaN            English              NaN  \n",
       "3                     NaN              NaN            English              NaN  \n",
       "4                     NaN              NaN            English              NaN  \n",
       "\n",
       "[5 rows x 25 columns]"
      ]
     },
     "metadata": {},
     "execution_count": 4
    }
   ],
   "metadata": {}
  },
  {
   "cell_type": "code",
   "execution_count": 5,
   "source": [
    "nf_meta.head()"
   ],
   "outputs": [
    {
     "output_type": "execute_result",
     "data": {
      "text/html": [
       "<div>\n",
       "<style scoped>\n",
       "    .dataframe tbody tr th:only-of-type {\n",
       "        vertical-align: middle;\n",
       "    }\n",
       "\n",
       "    .dataframe tbody tr th {\n",
       "        vertical-align: top;\n",
       "    }\n",
       "\n",
       "    .dataframe thead th {\n",
       "        text-align: right;\n",
       "    }\n",
       "</style>\n",
       "<table border=\"1\" class=\"dataframe\">\n",
       "  <thead>\n",
       "    <tr style=\"text-align: right;\">\n",
       "      <th></th>\n",
       "      <th>Column Name</th>\n",
       "      <th>Column Description</th>\n",
       "    </tr>\n",
       "  </thead>\n",
       "  <tbody>\n",
       "    <tr>\n",
       "      <th>0</th>\n",
       "      <td>Newsfeed_PK</td>\n",
       "      <td>Database Article ID</td>\n",
       "    </tr>\n",
       "    <tr>\n",
       "      <th>1</th>\n",
       "      <td>KPIFK</td>\n",
       "      <td>NaN</td>\n",
       "    </tr>\n",
       "    <tr>\n",
       "      <th>2</th>\n",
       "      <td>DateFK</td>\n",
       "      <td>Date ID (Year/Month/Day)</td>\n",
       "    </tr>\n",
       "    <tr>\n",
       "      <th>3</th>\n",
       "      <td>Newsfeed_EventId</td>\n",
       "      <td>Newsfeed Event ID</td>\n",
       "    </tr>\n",
       "    <tr>\n",
       "      <th>4</th>\n",
       "      <td>CountryFK</td>\n",
       "      <td>Country Unique ID</td>\n",
       "    </tr>\n",
       "  </tbody>\n",
       "</table>\n",
       "</div>"
      ],
      "text/plain": [
       "        Column Name        Column Description\n",
       "0       Newsfeed_PK       Database Article ID\n",
       "1             KPIFK                       NaN\n",
       "2            DateFK  Date ID (Year/Month/Day)\n",
       "3  Newsfeed_EventId         Newsfeed Event ID\n",
       "4         CountryFK         Country Unique ID"
      ]
     },
     "metadata": {},
     "execution_count": 5
    }
   ],
   "metadata": {}
  },
  {
   "cell_type": "code",
   "execution_count": 6,
   "source": [
    "acled.head()"
   ],
   "outputs": [
    {
     "output_type": "execute_result",
     "data": {
      "text/html": [
       "<div>\n",
       "<style scoped>\n",
       "    .dataframe tbody tr th:only-of-type {\n",
       "        vertical-align: middle;\n",
       "    }\n",
       "\n",
       "    .dataframe tbody tr th {\n",
       "        vertical-align: top;\n",
       "    }\n",
       "\n",
       "    .dataframe thead th {\n",
       "        text-align: right;\n",
       "    }\n",
       "</style>\n",
       "<table border=\"1\" class=\"dataframe\">\n",
       "  <thead>\n",
       "    <tr style=\"text-align: right;\">\n",
       "      <th></th>\n",
       "      <th>data_id</th>\n",
       "      <th>iso</th>\n",
       "      <th>event_id_cnty</th>\n",
       "      <th>event_id_no_cnty</th>\n",
       "      <th>event_date</th>\n",
       "      <th>year</th>\n",
       "      <th>time_precision</th>\n",
       "      <th>event_type</th>\n",
       "      <th>sub_event_type</th>\n",
       "      <th>actor1</th>\n",
       "      <th>...</th>\n",
       "      <th>location</th>\n",
       "      <th>latitude</th>\n",
       "      <th>longitude</th>\n",
       "      <th>geo_precision</th>\n",
       "      <th>source</th>\n",
       "      <th>source_scale</th>\n",
       "      <th>notes</th>\n",
       "      <th>fatalities</th>\n",
       "      <th>timestamp</th>\n",
       "      <th>iso3</th>\n",
       "    </tr>\n",
       "  </thead>\n",
       "  <tbody>\n",
       "    <tr>\n",
       "      <th>0</th>\n",
       "      <td>6713388</td>\n",
       "      <td>566</td>\n",
       "      <td>NIG15966</td>\n",
       "      <td>15966</td>\n",
       "      <td>31-Dec-19</td>\n",
       "      <td>2019</td>\n",
       "      <td>1</td>\n",
       "      <td>Protests</td>\n",
       "      <td>Peaceful protest</td>\n",
       "      <td>Protesters (Nigeria)</td>\n",
       "      <td>...</td>\n",
       "      <td>Katsina</td>\n",
       "      <td>12.9894</td>\n",
       "      <td>7.6006</td>\n",
       "      <td>1</td>\n",
       "      <td>Daily Trust (Nigeria)</td>\n",
       "      <td>National</td>\n",
       "      <td>On 31 December 2019, thousands of youth demons...</td>\n",
       "      <td>0</td>\n",
       "      <td>1578512391</td>\n",
       "      <td>NGA</td>\n",
       "    </tr>\n",
       "    <tr>\n",
       "      <th>1</th>\n",
       "      <td>7784010</td>\n",
       "      <td>566</td>\n",
       "      <td>NIG15968</td>\n",
       "      <td>15968</td>\n",
       "      <td>31-Dec-19</td>\n",
       "      <td>2019</td>\n",
       "      <td>1</td>\n",
       "      <td>Violence against civilians</td>\n",
       "      <td>Attack</td>\n",
       "      <td>Boko Haram - Jamaatu Ahli is-Sunnah lid-Dawati...</td>\n",
       "      <td>...</td>\n",
       "      <td>Michika</td>\n",
       "      <td>10.6159</td>\n",
       "      <td>13.3849</td>\n",
       "      <td>2</td>\n",
       "      <td>Sun (Nigeria)</td>\n",
       "      <td>National</td>\n",
       "      <td>On 31 December 2019, presumed Boko Haram (JAS)...</td>\n",
       "      <td>0</td>\n",
       "      <td>1617065408</td>\n",
       "      <td>NGA</td>\n",
       "    </tr>\n",
       "    <tr>\n",
       "      <th>2</th>\n",
       "      <td>6714193</td>\n",
       "      <td>566</td>\n",
       "      <td>NIG15963</td>\n",
       "      <td>15963</td>\n",
       "      <td>31-Dec-19</td>\n",
       "      <td>2019</td>\n",
       "      <td>1</td>\n",
       "      <td>Protests</td>\n",
       "      <td>Peaceful protest</td>\n",
       "      <td>Protesters (Nigeria)</td>\n",
       "      <td>...</td>\n",
       "      <td>Ameke Ngwo</td>\n",
       "      <td>6.4390</td>\n",
       "      <td>7.4017</td>\n",
       "      <td>1</td>\n",
       "      <td>Vanguard (Nigeria)</td>\n",
       "      <td>National</td>\n",
       "      <td>On 31 December 2019, residents of Ameke Ngwo d...</td>\n",
       "      <td>0</td>\n",
       "      <td>1578512393</td>\n",
       "      <td>NGA</td>\n",
       "    </tr>\n",
       "    <tr>\n",
       "      <th>3</th>\n",
       "      <td>7784065</td>\n",
       "      <td>566</td>\n",
       "      <td>NIG15967</td>\n",
       "      <td>15967</td>\n",
       "      <td>31-Dec-19</td>\n",
       "      <td>2019</td>\n",
       "      <td>1</td>\n",
       "      <td>Violence against civilians</td>\n",
       "      <td>Attack</td>\n",
       "      <td>Boko Haram - Jamaatu Ahli is-Sunnah lid-Dawati...</td>\n",
       "      <td>...</td>\n",
       "      <td>Kopa</td>\n",
       "      <td>10.7447</td>\n",
       "      <td>13.3325</td>\n",
       "      <td>1</td>\n",
       "      <td>Sun (Nigeria)</td>\n",
       "      <td>National</td>\n",
       "      <td>On 31 December 2019, presumed Boko Haram (JAS)...</td>\n",
       "      <td>0</td>\n",
       "      <td>1617065408</td>\n",
       "      <td>NGA</td>\n",
       "    </tr>\n",
       "    <tr>\n",
       "      <th>4</th>\n",
       "      <td>7784086</td>\n",
       "      <td>566</td>\n",
       "      <td>NIG15964</td>\n",
       "      <td>15964</td>\n",
       "      <td>31-Dec-19</td>\n",
       "      <td>2019</td>\n",
       "      <td>1</td>\n",
       "      <td>Explosions/Remote violence</td>\n",
       "      <td>Air/drone strike</td>\n",
       "      <td>Military Forces of Nigeria (2015-)</td>\n",
       "      <td>...</td>\n",
       "      <td>Gujeri</td>\n",
       "      <td>11.5333</td>\n",
       "      <td>12.8167</td>\n",
       "      <td>1</td>\n",
       "      <td>Sun (Nigeria)</td>\n",
       "      <td>National</td>\n",
       "      <td>On 31 December 2019, Nigerian Air Force conduc...</td>\n",
       "      <td>0</td>\n",
       "      <td>1617065408</td>\n",
       "      <td>NGA</td>\n",
       "    </tr>\n",
       "  </tbody>\n",
       "</table>\n",
       "<p>5 rows × 31 columns</p>\n",
       "</div>"
      ],
      "text/plain": [
       "   data_id  iso event_id_cnty  event_id_no_cnty event_date  year  \\\n",
       "0  6713388  566      NIG15966             15966  31-Dec-19  2019   \n",
       "1  7784010  566      NIG15968             15968  31-Dec-19  2019   \n",
       "2  6714193  566      NIG15963             15963  31-Dec-19  2019   \n",
       "3  7784065  566      NIG15967             15967  31-Dec-19  2019   \n",
       "4  7784086  566      NIG15964             15964  31-Dec-19  2019   \n",
       "\n",
       "   time_precision                  event_type    sub_event_type  \\\n",
       "0               1                    Protests  Peaceful protest   \n",
       "1               1  Violence against civilians            Attack   \n",
       "2               1                    Protests  Peaceful protest   \n",
       "3               1  Violence against civilians            Attack   \n",
       "4               1  Explosions/Remote violence  Air/drone strike   \n",
       "\n",
       "                                              actor1  ...    location  \\\n",
       "0                               Protesters (Nigeria)  ...     Katsina   \n",
       "1  Boko Haram - Jamaatu Ahli is-Sunnah lid-Dawati...  ...     Michika   \n",
       "2                               Protesters (Nigeria)  ...  Ameke Ngwo   \n",
       "3  Boko Haram - Jamaatu Ahli is-Sunnah lid-Dawati...  ...        Kopa   \n",
       "4                 Military Forces of Nigeria (2015-)  ...      Gujeri   \n",
       "\n",
       "   latitude longitude geo_precision                 source  source_scale  \\\n",
       "0   12.9894    7.6006             1  Daily Trust (Nigeria)      National   \n",
       "1   10.6159   13.3849             2          Sun (Nigeria)      National   \n",
       "2    6.4390    7.4017             1     Vanguard (Nigeria)      National   \n",
       "3   10.7447   13.3325             1          Sun (Nigeria)      National   \n",
       "4   11.5333   12.8167             1          Sun (Nigeria)      National   \n",
       "\n",
       "                                               notes fatalities   timestamp  \\\n",
       "0  On 31 December 2019, thousands of youth demons...          0  1578512391   \n",
       "1  On 31 December 2019, presumed Boko Haram (JAS)...          0  1617065408   \n",
       "2  On 31 December 2019, residents of Ameke Ngwo d...          0  1578512393   \n",
       "3  On 31 December 2019, presumed Boko Haram (JAS)...          0  1617065408   \n",
       "4  On 31 December 2019, Nigerian Air Force conduc...          0  1617065408   \n",
       "\n",
       "  iso3  \n",
       "0  NGA  \n",
       "1  NGA  \n",
       "2  NGA  \n",
       "3  NGA  \n",
       "4  NGA  \n",
       "\n",
       "[5 rows x 31 columns]"
      ]
     },
     "metadata": {},
     "execution_count": 6
    }
   ],
   "metadata": {}
  },
  {
   "cell_type": "markdown",
   "source": [
    "## Cleaning Data "
   ],
   "metadata": {}
  },
  {
   "cell_type": "code",
   "execution_count": 7,
   "source": [
    "# get null values per table\n",
    "newsFeed.isnull().sum()"
   ],
   "outputs": [
    {
     "output_type": "execute_result",
     "data": {
      "text/plain": [
       "Newsfeed_PK                        0\n",
       "KPIFK                          24442\n",
       "DateFK                             0\n",
       "Newsfeed_EventId                   0\n",
       "CountryFK                          0\n",
       "Newsfeed_Source                    0\n",
       "Newsfeed_Source_Description        0\n",
       "Newsfeed_Source_Url               71\n",
       "Newsfeed_DateDisplay               0\n",
       "Newsfeed_CountryISO                0\n",
       "Newsfeed_Country                   0\n",
       "Newsfeed_Country_UNDPRegion        0\n",
       "Newsfeed_IncidentType             71\n",
       "Newsfeed_IncidentLevel         24493\n",
       "Newsfeed_IncidentTypeDesc      24493\n",
       "Newsfeed_Description               0\n",
       "Newsfeed_Description2              0\n",
       "Newsfeed_Link                    101\n",
       "Newsfeed_Longitude              2395\n",
       "Newsfeed_Latitude               2395\n",
       "Newsfeed_Trajectory            24472\n",
       "Newsfeed_PeopleAffected        24493\n",
       "Newsfeed_Source2                 559\n",
       "Newsfeed_Language                  0\n",
       "Newsfeed_Entity                 2402\n",
       "dtype: int64"
      ]
     },
     "metadata": {},
     "execution_count": 7
    }
   ],
   "metadata": {}
  },
  {
   "cell_type": "code",
   "execution_count": 8,
   "source": [
    "nf_meta.isnull().sum()"
   ],
   "outputs": [
    {
     "output_type": "execute_result",
     "data": {
      "text/plain": [
       "Column Name           0\n",
       "Column Description    5\n",
       "dtype: int64"
      ]
     },
     "metadata": {},
     "execution_count": 8
    }
   ],
   "metadata": {}
  },
  {
   "cell_type": "code",
   "execution_count": 9,
   "source": [
    "acled.isnull().sum()"
   ],
   "outputs": [
    {
     "output_type": "execute_result",
     "data": {
      "text/plain": [
       "data_id                0\n",
       "iso                    0\n",
       "event_id_cnty          0\n",
       "event_id_no_cnty       0\n",
       "event_date             0\n",
       "year                   0\n",
       "time_precision         0\n",
       "event_type             0\n",
       "sub_event_type         0\n",
       "actor1                 0\n",
       "assoc_actor_1       1470\n",
       "inter1                 0\n",
       "actor2               602\n",
       "assoc_actor_2       1686\n",
       "inter2                 0\n",
       "interaction            0\n",
       "region                 0\n",
       "country                0\n",
       "admin1                 0\n",
       "admin2                 0\n",
       "admin3              2216\n",
       "location               0\n",
       "latitude               0\n",
       "longitude              0\n",
       "geo_precision          0\n",
       "source                 0\n",
       "source_scale           0\n",
       "notes                  0\n",
       "fatalities             0\n",
       "timestamp              0\n",
       "iso3                   0\n",
       "dtype: int64"
      ]
     },
     "metadata": {},
     "execution_count": 9
    }
   ],
   "metadata": {}
  },
  {
   "cell_type": "code",
   "execution_count": 10,
   "source": [
    "#print shape of data \n",
    "print(newsFeed.shape)\n",
    "print(nf_meta.shape)\n",
    "print(acled.shape)"
   ],
   "outputs": [
    {
     "output_type": "stream",
     "name": "stdout",
     "text": [
      "(24493, 25)\n",
      "(25, 2)\n",
      "(2216, 31)\n"
     ]
    }
   ],
   "metadata": {}
  },
  {
   "cell_type": "code",
   "execution_count": 33,
   "source": [
    "# drop all columns in newsFeed which have null values\n",
    "newsFeed.dropna(axis=1,inplace=True)\n"
   ],
   "outputs": [],
   "metadata": {}
  },
  {
   "cell_type": "code",
   "execution_count": 34,
   "source": [
    "newsFeed.shape"
   ],
   "outputs": [
    {
     "output_type": "execute_result",
     "data": {
      "text/plain": [
       "(24493, 13)"
      ]
     },
     "metadata": {},
     "execution_count": 34
    }
   ],
   "metadata": {}
  },
  {
   "cell_type": "code",
   "execution_count": 27,
   "source": [
    "acled.dropna(axis=1,inplace=True)"
   ],
   "outputs": [],
   "metadata": {}
  },
  {
   "cell_type": "code",
   "execution_count": 29,
   "source": [
    "acled.shape"
   ],
   "outputs": [
    {
     "output_type": "execute_result",
     "data": {
      "text/plain": [
       "(2216, 27)"
      ]
     },
     "metadata": {},
     "execution_count": 29
    }
   ],
   "metadata": {}
  },
  {
   "cell_type": "code",
   "execution_count": 35,
   "source": [
    "# post dropping columsn with large number of null values\n",
    "newsFeed.isnull().sum()"
   ],
   "outputs": [
    {
     "output_type": "execute_result",
     "data": {
      "text/plain": [
       "Newsfeed_PK                    0\n",
       "DateFK                         0\n",
       "Newsfeed_EventId               0\n",
       "CountryFK                      0\n",
       "Newsfeed_Source                0\n",
       "Newsfeed_Source_Description    0\n",
       "Newsfeed_DateDisplay           0\n",
       "Newsfeed_CountryISO            0\n",
       "Newsfeed_Country               0\n",
       "Newsfeed_Country_UNDPRegion    0\n",
       "Newsfeed_Description           0\n",
       "Newsfeed_Description2          0\n",
       "Newsfeed_Language              0\n",
       "dtype: int64"
      ]
     },
     "metadata": {},
     "execution_count": 35
    }
   ],
   "metadata": {}
  },
  {
   "cell_type": "code",
   "execution_count": 32,
   "source": [
    "acled.isnull().sum()"
   ],
   "outputs": [
    {
     "output_type": "execute_result",
     "data": {
      "text/plain": [
       "data_id             0\n",
       "iso                 0\n",
       "event_id_cnty       0\n",
       "event_id_no_cnty    0\n",
       "event_date          0\n",
       "year                0\n",
       "time_precision      0\n",
       "event_type          0\n",
       "sub_event_type      0\n",
       "actor1              0\n",
       "inter1              0\n",
       "inter2              0\n",
       "interaction         0\n",
       "region              0\n",
       "country             0\n",
       "admin1              0\n",
       "admin2              0\n",
       "location            0\n",
       "latitude            0\n",
       "longitude           0\n",
       "geo_precision       0\n",
       "source              0\n",
       "source_scale        0\n",
       "notes               0\n",
       "fatalities          0\n",
       "timestamp           0\n",
       "iso3                0\n",
       "dtype: int64"
      ]
     },
     "metadata": {},
     "execution_count": 32
    }
   ],
   "metadata": {}
  },
  {
   "cell_type": "markdown",
   "source": [
    "## Data Exploration"
   ],
   "metadata": {}
  },
  {
   "cell_type": "code",
   "execution_count": 42,
   "source": [
    "newsFeed.columns"
   ],
   "outputs": [
    {
     "output_type": "execute_result",
     "data": {
      "text/plain": [
       "Index(['Newsfeed_PK', 'DateFK', 'Newsfeed_EventId', 'CountryFK',\n",
       "       'Newsfeed_Source', 'Newsfeed_Source_Description',\n",
       "       'Newsfeed_DateDisplay', 'Newsfeed_CountryISO', 'Newsfeed_Country',\n",
       "       'Newsfeed_Country_UNDPRegion', 'Newsfeed_Description',\n",
       "       'Newsfeed_Description2', 'Newsfeed_Language'],\n",
       "      dtype='object')"
      ]
     },
     "metadata": {},
     "execution_count": 42
    }
   ],
   "metadata": {}
  },
  {
   "cell_type": "code",
   "execution_count": 38,
   "source": [
    "nf_meta.head()"
   ],
   "outputs": [
    {
     "output_type": "execute_result",
     "data": {
      "text/html": [
       "<div>\n",
       "<style scoped>\n",
       "    .dataframe tbody tr th:only-of-type {\n",
       "        vertical-align: middle;\n",
       "    }\n",
       "\n",
       "    .dataframe tbody tr th {\n",
       "        vertical-align: top;\n",
       "    }\n",
       "\n",
       "    .dataframe thead th {\n",
       "        text-align: right;\n",
       "    }\n",
       "</style>\n",
       "<table border=\"1\" class=\"dataframe\">\n",
       "  <thead>\n",
       "    <tr style=\"text-align: right;\">\n",
       "      <th></th>\n",
       "      <th>Column Name</th>\n",
       "      <th>Column Description</th>\n",
       "    </tr>\n",
       "  </thead>\n",
       "  <tbody>\n",
       "    <tr>\n",
       "      <th>0</th>\n",
       "      <td>Newsfeed_PK</td>\n",
       "      <td>Database Article ID</td>\n",
       "    </tr>\n",
       "    <tr>\n",
       "      <th>1</th>\n",
       "      <td>KPIFK</td>\n",
       "      <td>NaN</td>\n",
       "    </tr>\n",
       "    <tr>\n",
       "      <th>2</th>\n",
       "      <td>DateFK</td>\n",
       "      <td>Date ID (Year/Month/Day)</td>\n",
       "    </tr>\n",
       "    <tr>\n",
       "      <th>3</th>\n",
       "      <td>Newsfeed_EventId</td>\n",
       "      <td>Newsfeed Event ID</td>\n",
       "    </tr>\n",
       "    <tr>\n",
       "      <th>4</th>\n",
       "      <td>CountryFK</td>\n",
       "      <td>Country Unique ID</td>\n",
       "    </tr>\n",
       "  </tbody>\n",
       "</table>\n",
       "</div>"
      ],
      "text/plain": [
       "        Column Name        Column Description\n",
       "0       Newsfeed_PK       Database Article ID\n",
       "1             KPIFK                       NaN\n",
       "2            DateFK  Date ID (Year/Month/Day)\n",
       "3  Newsfeed_EventId         Newsfeed Event ID\n",
       "4         CountryFK         Country Unique ID"
      ]
     },
     "metadata": {},
     "execution_count": 38
    }
   ],
   "metadata": {}
  },
  {
   "cell_type": "code",
   "execution_count": 41,
   "source": [
    "acled.columns"
   ],
   "outputs": [
    {
     "output_type": "execute_result",
     "data": {
      "text/plain": [
       "Index(['data_id', 'iso', 'event_id_cnty', 'event_id_no_cnty', 'event_date',\n",
       "       'year', 'time_precision', 'event_type', 'sub_event_type', 'actor1',\n",
       "       'inter1', 'inter2', 'interaction', 'region', 'country', 'admin1',\n",
       "       'admin2', 'location', 'latitude', 'longitude', 'geo_precision',\n",
       "       'source', 'source_scale', 'notes', 'fatalities', 'timestamp', 'iso3'],\n",
       "      dtype='object')"
      ]
     },
     "metadata": {},
     "execution_count": 41
    }
   ],
   "metadata": {}
  },
  {
   "cell_type": "code",
   "execution_count": 47,
   "source": [
    "# plot  sub event type in aceled in the form of a bar chart \n",
    "acled['sub_event_type'].value_counts().plot(kind='bar')\n"
   ],
   "outputs": [
    {
     "output_type": "execute_result",
     "data": {
      "text/plain": [
       "<AxesSubplot:>"
      ]
     },
     "metadata": {},
     "execution_count": 47
    },
    {
     "output_type": "display_data",
     "data": {
      "image/png": "[encoded data removed]",
      "text/plain": [
       "<Figure size 432x288 with 1 Axes>"
      ]
     },
     "metadata": {
      "needs_background": "light"
     }
    }
   ],
   "metadata": {}
  },
  {
   "cell_type": "code",
   "execution_count": null,
   "source": [],
   "outputs": [],
   "metadata": {}
  }
 ],
 "metadata": {
  "orig_nbformat": 4,
  "language_info": {
   "name": "python",
   "version": "3.8.5",
   "mimetype": "text/x-python",
   "codemirror_mode": {
    "name": "ipython",
    "version": 3
   },
   "pygments_lexer": "ipython3",
   "nbconvert_exporter": "python",
   "file_extension": ".py"
  },
  "kernelspec": {
   "name": "python3",
   "display_name": "Python 3.8.5 64-bit ('base': conda)"
  },
  "interpreter": {
   "hash": "dca0ade3e726a953b501b15e8e990130d2b7799f14cfd9f4271676035ebe5511"
  }
 },
 "nbformat": 4,
 "nbformat_minor": 2
}